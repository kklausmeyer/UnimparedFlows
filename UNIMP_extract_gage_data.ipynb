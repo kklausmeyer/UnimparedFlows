{
 "cells": [
  {
   "cell_type": "code",
   "execution_count": null,
   "metadata": {
    "collapsed": false
   },
   "outputs": [],
   "source": [
    "print (\"importing arcpy\")\n",
    "import arcpy\n",
    "import sys\n",
    "from arcpy import env\n",
    "from arcpy.sa import *\n",
    "arcpy.CheckOutExtension(\"Spatial\")\n",
    "arcpy.env.overwriteOutput = True\n",
    "arcpy.env.transferDomains = True"
   ]
  },
  {
   "cell_type": "code",
   "execution_count": null,
   "metadata": {
    "collapsed": true
   },
   "outputs": [],
   "source": [
    "path = r\"N:\\Projects\\CA_FWA\\projects\\UnimparedFlows\"\n",
    "path_data = path + \"\\\\archive\\\\CA_data\"\n",
    "path_tables = path + \"\\\\tables\"\n",
    "gages_comid = path_tables + \"\\\\Gage_Comid_All.csv\"\n",
    "gages_data = path_tables + \"\\\\Gages_Data_All.csv\"\n",
    "\n",
    "gage_actual = path_data + \"\\\\AllGages_Observed_Monthlies\\\\All_Mn_Q.csv\"\n",
    "\n",
    "region_eco_list = [\n",
    "    [\"COAST\", [\"6.2.11\",\"7.1.8\"]],\n",
    "    [\"MNTS\", [\"6.2.7\",\"6.2.8\",\"6.2.12\"]],\n",
    "    [\"XERIC\", [\"10.1.3\",\"10.1.5\",\"10.2.1\",\"10.2.2\",\"11.1.1\",\"11.1.2\",\"11.1.3\"]]   \n",
    "]"
   ]
  },
  {
   "cell_type": "code",
   "execution_count": null,
   "metadata": {
    "collapsed": false
   },
   "outputs": [],
   "source": [
    "# Open file with COMID for gages only and covert to a list (note that there is a carriage return at the end of each COMID)\n",
    "\n",
    "f = open(gages_comid, 'r')\n",
    "gages = f.readlines()\n",
    "f.close()"
   ]
  },
  {
   "cell_type": "code",
   "execution_count": null,
   "metadata": {
    "collapsed": false
   },
   "outputs": [],
   "source": [
    "# Build a list of the gages and the COMID\n",
    "gage_pair_list = []\n",
    "for gage in gages:\n",
    "    gage_pair = str(gage.strip()).split(\",\")\n",
    "    gage_pair_list.append(gage_pair)\n",
    "\n",
    "#Build a list of gages\n",
    "gage_list = []\n",
    "for gage_pair in gage_pair_list:\n",
    "    gage_list.append(gage_pair[0])\n",
    "\n",
    "#Build a list of COMID\n",
    "comid_list = []\n",
    "for gage_pair in gage_pair_list:\n",
    "    comid_list.append(gage_pair[1])\n",
    "\n",
    "# Build a dictionary that will return a gage or list of gages for every comid \n",
    "gage_pair_dict = {}\n",
    "for gage_pair in gage_pair_list:\n",
    "    if gage_pair[1] in gage_pair_dict:\n",
    "        print(\"duplicate record for \" + str(gage_pair[1]))\n",
    "        templist = gage_pair_dict[gage_pair[1]]\n",
    "        templist.append(gage_pair[0])\n",
    "        gage_pair_dict[gage_pair[1]] = templist\n",
    "    else:\n",
    "        gage_pair_dict[gage_pair[1]] = [gage_pair[0]]"
   ]
  },
  {
   "cell_type": "code",
   "execution_count": null,
   "metadata": {
    "collapsed": false
   },
   "outputs": [],
   "source": [
    "# Make table for output\n",
    "f_out = open(gages_data, 'w')\n",
    "f_out.write('\"Gage_ID\",\"Date\",\"Type\",\"Value\"\\n')"
   ]
  },
  {
   "cell_type": "code",
   "execution_count": null,
   "metadata": {
    "collapsed": false
   },
   "outputs": [],
   "source": [
    "# Extract gage data\n",
    "f_out = open(gages_data, 'a')\n",
    "a = open(gage_actual, \"r\")\n",
    "alines = a.readlines()\n",
    "\n",
    "for line in alines:\n",
    "    line_list = line.split(\",\")\n",
    "    line_gage_ID = line_list[0][1:-1]\n",
    "    if line_gage_ID in gage_list:\n",
    "        date = line_list[2] + \"/1/\" + line_list[1]\n",
    "        f_out.write(line_gage_ID + \",\" + date + \",Actual mean Q,\" + line_list[4] + \"\\n\")\n",
    "        \n",
    "f_out.close()"
   ]
  },
  {
   "cell_type": "code",
   "execution_count": null,
   "metadata": {
    "collapsed": false
   },
   "outputs": [],
   "source": [
    "# Export to data with matching COMID to new table\n",
    "\n",
    "f_out = open(gages_data, 'a')\n",
    "\n",
    "for region_tuple in region_eco_list:\n",
    "    region = region_tuple[0]\n",
    "    eco_list = region_tuple[1]\n",
    "    \n",
    "    for eco in eco_list:\n",
    "\n",
    "        months = list(range(2,13))\n",
    "        #months = list(range(1,13))\n",
    "\n",
    "        for month in months:\n",
    "            if month < 10:\n",
    "                month_str = \"0\" + str(month)\n",
    "            else:\n",
    "                month_str = str(month)\n",
    "            table = path_data + \"\\\\\" + region + \"\\\\Mean\\\\\" + eco + \"_\" + month_str + \"_Pred.csv\"\n",
    "            print(\"Reading data for \" + table)\n",
    "            t = open(table, 'r')\n",
    "            lines = t.readlines()\n",
    "\n",
    "            for line in lines:\n",
    "                line_list = line.split(\",\")\n",
    "                if line_list[0] in comid_list:\n",
    "                    for gage_id in gage_pair_dict[line_list[0]]: # this will duplicate the data for the comids with multiple gages\n",
    "                        date = str(month) + \"/1/\" + line_list[2]\n",
    "                        f_out.write(gage_id + \",\" + date + \",P10 mean Q,\" + str(line_list[7]) + \"\\n\")\n",
    "                        f_out.write(gage_id + \",\" + date + \",P90 mean Q,\" + str(line_list[9]) + \"\\n\")\n",
    "                        f_out.write(gage_id + \",\" + date + \",Estimated mean Q,\" + str(line_list[10]) + \"\\n\")\n",
    "\n",
    "        t.close()\n",
    "f_out.close()\n"
   ]
  },
  {
   "cell_type": "code",
   "execution_count": null,
   "metadata": {
    "collapsed": true
   },
   "outputs": [],
   "source": []
  }
 ],
 "metadata": {
  "kernelspec": {
   "display_name": "Python 3",
   "language": "python",
   "name": "python3"
  },
  "language_info": {
   "codemirror_mode": {
    "name": "ipython",
    "version": 3
   },
   "file_extension": ".py",
   "mimetype": "text/x-python",
   "name": "python",
   "nbconvert_exporter": "python",
   "pygments_lexer": "ipython3",
   "version": "3.4.4"
  }
 },
 "nbformat": 4,
 "nbformat_minor": 0
}
